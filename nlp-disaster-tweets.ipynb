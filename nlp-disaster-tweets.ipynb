{
 "cells": [
  {
   "cell_type": "code",
   "execution_count": 1,
   "id": "579f3ca2",
   "metadata": {
    "_cell_guid": "b1076dfc-b9ad-4769-8c92-a6c4dae69d19",
    "_uuid": "8f2839f25d086af736a60e9eeb907d3b93b6e0e5",
    "execution": {
     "iopub.execute_input": "2023-04-29T18:37:02.709628Z",
     "iopub.status.busy": "2023-04-29T18:37:02.708990Z",
     "iopub.status.idle": "2023-04-29T18:37:12.715832Z",
     "shell.execute_reply": "2023-04-29T18:37:12.714715Z"
    },
    "papermill": {
     "duration": 10.020808,
     "end_time": "2023-04-29T18:37:12.718916",
     "exception": false,
     "start_time": "2023-04-29T18:37:02.698108",
     "status": "completed"
    },
    "tags": []
   },
   "outputs": [],
   "source": [
    "# This Python 3 environment comes with many helpful analytics libraries installed\n",
    "# It is defined by the kaggle/python Docker image: https://github.com/kaggle/docker-python\n",
    "# For example, here's several helpful packages to load\n",
    "\n",
    "import numpy as np # linear algebra\n",
    "import pandas as pd # data processing, CSV file I/O (e.g. pd.read_csv)\n",
    "import matplotlib.pyplot as plt # Visualizations\n",
    "import seaborn as sns # More visualizations\n",
    "import os # Deal with the file system\n",
    "from tqdm.notebook import tqdm, trange # loader bar\n",
    "import urllib.parse\n",
    "\n",
    "import tensorflow as tf\n",
    "import keras\n",
    "from keras.models import Sequential\n",
    "from keras.preprocessing import sequence, text\n",
    "from keras.layers import Dense, Dropout, Flatten, Embedding, TextVectorization, Input\n",
    "from keras.callbacks import EarlyStopping, ReduceLROnPlateau\n",
    "from sklearn.utils import shuffle # Used for shuffling the data\n",
    "from sklearn.model_selection import train_test_split\n",
    "from sklearn.decomposition import PCA\n",
    "from sklearn.metrics import roc_curve, auc\n",
    "\n",
    "INPUT_DIR = \"/kaggle/input/nlp-getting-started\"\n",
    "RANDOM_STATE = 1 # Set to None if reproducibility is not needed\n",
    "DEBUG_SAMPLE_FRAC = 1 # Reduce the amount of data used so that debugging the notebook is faster\n",
    "\n",
    "# You can write up to 20GB to the current directory (/kaggle/working/) that gets preserved as output when you create a version using \"Save & Run All\" \n",
    "# You can also write temporary files to /kaggle/temp/, but they won't be saved outside of the current session"
   ]
  },
  {
   "cell_type": "markdown",
   "id": "e4ba39bd",
   "metadata": {
    "papermill": {
     "duration": 0.007739,
     "end_time": "2023-04-29T18:37:12.734860",
     "exception": false,
     "start_time": "2023-04-29T18:37:12.727121",
     "status": "completed"
    },
    "tags": []
   },
   "source": [
    "# Brief Introduction to the Problem and the Data\n",
    "With this competition the aim is to develop algorithms that can identify tweets as indicating a real natural disasters that are occuring. \n",
    "\n",
    "## The Problem\n",
    "While many tweets are sent to report occuring natural disasters, there are also tweets that might include similar terms, and yet not be about a disaster.  The given example tweet says \"On the plus side LOOK AT THE SKY LAST NIGHT IT WAS ABLAZE\".  A simple word search looking for \"ABLAZE\" as an indicator of forest fires might flag this tweet as a sign of an occuring fire.   However, this would be incorrect.\n",
    "\n",
    "As the hint is given in the title, this is a problem that can be approached with more accuracy using Natural Language Processing, or NLP for short.\n",
    "\n",
    "## The Data\n",
    "The data is a set of five columns, with the central three being the text of the tweet, an optional location, and an optional keyword.  There is also an id for each tweet as well as a target label that indicates if the target is about a real disaster or not (1 or 0).  This labelling was done by humans and is assumed to be accurate.\n",
    "\n",
    "The project also provides the test set of tweets to predict on for the submission.\n",
    "\n",
    "# Exploratory Data Analysis\n",
    "The training data is loaded from the csv."
   ]
  },
  {
   "cell_type": "code",
   "execution_count": 2,
   "id": "44d2e1d4",
   "metadata": {
    "execution": {
     "iopub.execute_input": "2023-04-29T18:37:12.752309Z",
     "iopub.status.busy": "2023-04-29T18:37:12.751471Z",
     "iopub.status.idle": "2023-04-29T18:37:12.821914Z",
     "shell.execute_reply": "2023-04-29T18:37:12.820597Z"
    },
    "papermill": {
     "duration": 0.08229,
     "end_time": "2023-04-29T18:37:12.824800",
     "exception": false,
     "start_time": "2023-04-29T18:37:12.742510",
     "status": "completed"
    },
    "tags": []
   },
   "outputs": [
    {
     "data": {
      "text/html": [
       "<div>\n",
       "<style scoped>\n",
       "    .dataframe tbody tr th:only-of-type {\n",
       "        vertical-align: middle;\n",
       "    }\n",
       "\n",
       "    .dataframe tbody tr th {\n",
       "        vertical-align: top;\n",
       "    }\n",
       "\n",
       "    .dataframe thead th {\n",
       "        text-align: right;\n",
       "    }\n",
       "</style>\n",
       "<table border=\"1\" class=\"dataframe\">\n",
       "  <thead>\n",
       "    <tr style=\"text-align: right;\">\n",
       "      <th></th>\n",
       "      <th>id</th>\n",
       "      <th>keyword</th>\n",
       "      <th>location</th>\n",
       "      <th>text</th>\n",
       "      <th>target</th>\n",
       "    </tr>\n",
       "  </thead>\n",
       "  <tbody>\n",
       "    <tr>\n",
       "      <th>0</th>\n",
       "      <td>1</td>\n",
       "      <td>NaN</td>\n",
       "      <td>NaN</td>\n",
       "      <td>Our Deeds are the Reason of this #earthquake M...</td>\n",
       "      <td>1</td>\n",
       "    </tr>\n",
       "    <tr>\n",
       "      <th>1</th>\n",
       "      <td>4</td>\n",
       "      <td>NaN</td>\n",
       "      <td>NaN</td>\n",
       "      <td>Forest fire near La Ronge Sask. Canada</td>\n",
       "      <td>1</td>\n",
       "    </tr>\n",
       "    <tr>\n",
       "      <th>2</th>\n",
       "      <td>5</td>\n",
       "      <td>NaN</td>\n",
       "      <td>NaN</td>\n",
       "      <td>All residents asked to 'shelter in place' are ...</td>\n",
       "      <td>1</td>\n",
       "    </tr>\n",
       "    <tr>\n",
       "      <th>3</th>\n",
       "      <td>6</td>\n",
       "      <td>NaN</td>\n",
       "      <td>NaN</td>\n",
       "      <td>13,000 people receive #wildfires evacuation or...</td>\n",
       "      <td>1</td>\n",
       "    </tr>\n",
       "    <tr>\n",
       "      <th>4</th>\n",
       "      <td>7</td>\n",
       "      <td>NaN</td>\n",
       "      <td>NaN</td>\n",
       "      <td>Just got sent this photo from Ruby #Alaska as ...</td>\n",
       "      <td>1</td>\n",
       "    </tr>\n",
       "  </tbody>\n",
       "</table>\n",
       "</div>"
      ],
      "text/plain": [
       "   id keyword location                                               text  \\\n",
       "0   1     NaN      NaN  Our Deeds are the Reason of this #earthquake M...   \n",
       "1   4     NaN      NaN             Forest fire near La Ronge Sask. Canada   \n",
       "2   5     NaN      NaN  All residents asked to 'shelter in place' are ...   \n",
       "3   6     NaN      NaN  13,000 people receive #wildfires evacuation or...   \n",
       "4   7     NaN      NaN  Just got sent this photo from Ruby #Alaska as ...   \n",
       "\n",
       "   target  \n",
       "0       1  \n",
       "1       1  \n",
       "2       1  \n",
       "3       1  \n",
       "4       1  "
      ]
     },
     "execution_count": 2,
     "metadata": {},
     "output_type": "execute_result"
    }
   ],
   "source": [
    "tweets_train = pd.read_csv(f\"{INPUT_DIR}/train.csv\")\n",
    "tweets_train.head()"
   ]
  },
  {
   "cell_type": "code",
   "execution_count": 3,
   "id": "5d2f0acc",
   "metadata": {
    "execution": {
     "iopub.execute_input": "2023-04-29T18:37:12.844393Z",
     "iopub.status.busy": "2023-04-29T18:37:12.843704Z",
     "iopub.status.idle": "2023-04-29T18:37:12.874079Z",
     "shell.execute_reply": "2023-04-29T18:37:12.872758Z"
    },
    "papermill": {
     "duration": 0.043556,
     "end_time": "2023-04-29T18:37:12.877124",
     "exception": false,
     "start_time": "2023-04-29T18:37:12.833568",
     "status": "completed"
    },
    "tags": []
   },
   "outputs": [
    {
     "data": {
      "text/html": [
       "<div>\n",
       "<style scoped>\n",
       "    .dataframe tbody tr th:only-of-type {\n",
       "        vertical-align: middle;\n",
       "    }\n",
       "\n",
       "    .dataframe tbody tr th {\n",
       "        vertical-align: top;\n",
       "    }\n",
       "\n",
       "    .dataframe thead th {\n",
       "        text-align: right;\n",
       "    }\n",
       "</style>\n",
       "<table border=\"1\" class=\"dataframe\">\n",
       "  <thead>\n",
       "    <tr style=\"text-align: right;\">\n",
       "      <th></th>\n",
       "      <th>id</th>\n",
       "      <th>target</th>\n",
       "    </tr>\n",
       "  </thead>\n",
       "  <tbody>\n",
       "    <tr>\n",
       "      <th>count</th>\n",
       "      <td>7613.000000</td>\n",
       "      <td>7613.00000</td>\n",
       "    </tr>\n",
       "    <tr>\n",
       "      <th>mean</th>\n",
       "      <td>5441.934848</td>\n",
       "      <td>0.42966</td>\n",
       "    </tr>\n",
       "    <tr>\n",
       "      <th>std</th>\n",
       "      <td>3137.116090</td>\n",
       "      <td>0.49506</td>\n",
       "    </tr>\n",
       "    <tr>\n",
       "      <th>min</th>\n",
       "      <td>1.000000</td>\n",
       "      <td>0.00000</td>\n",
       "    </tr>\n",
       "    <tr>\n",
       "      <th>25%</th>\n",
       "      <td>2734.000000</td>\n",
       "      <td>0.00000</td>\n",
       "    </tr>\n",
       "    <tr>\n",
       "      <th>50%</th>\n",
       "      <td>5408.000000</td>\n",
       "      <td>0.00000</td>\n",
       "    </tr>\n",
       "    <tr>\n",
       "      <th>75%</th>\n",
       "      <td>8146.000000</td>\n",
       "      <td>1.00000</td>\n",
       "    </tr>\n",
       "    <tr>\n",
       "      <th>max</th>\n",
       "      <td>10873.000000</td>\n",
       "      <td>1.00000</td>\n",
       "    </tr>\n",
       "  </tbody>\n",
       "</table>\n",
       "</div>"
      ],
      "text/plain": [
       "                 id      target\n",
       "count   7613.000000  7613.00000\n",
       "mean    5441.934848     0.42966\n",
       "std     3137.116090     0.49506\n",
       "min        1.000000     0.00000\n",
       "25%     2734.000000     0.00000\n",
       "50%     5408.000000     0.00000\n",
       "75%     8146.000000     1.00000\n",
       "max    10873.000000     1.00000"
      ]
     },
     "execution_count": 3,
     "metadata": {},
     "output_type": "execute_result"
    }
   ],
   "source": [
    "tweets_train.describe()"
   ]
  },
  {
   "cell_type": "code",
   "execution_count": 4,
   "id": "ccd6f2a2",
   "metadata": {
    "execution": {
     "iopub.execute_input": "2023-04-29T18:37:12.895585Z",
     "iopub.status.busy": "2023-04-29T18:37:12.894945Z",
     "iopub.status.idle": "2023-04-29T18:37:12.909677Z",
     "shell.execute_reply": "2023-04-29T18:37:12.908709Z"
    },
    "papermill": {
     "duration": 0.026873,
     "end_time": "2023-04-29T18:37:12.912143",
     "exception": false,
     "start_time": "2023-04-29T18:37:12.885270",
     "status": "completed"
    },
    "tags": []
   },
   "outputs": [
    {
     "data": {
      "text/plain": [
       "id          7613\n",
       "keyword      221\n",
       "location    3341\n",
       "text        7503\n",
       "target         2\n",
       "dtype: int64"
      ]
     },
     "execution_count": 4,
     "metadata": {},
     "output_type": "execute_result"
    }
   ],
   "source": [
    "tweets_train.nunique()"
   ]
  },
  {
   "cell_type": "markdown",
   "id": "68d3aa7b",
   "metadata": {
    "papermill": {
     "duration": 0.00848,
     "end_time": "2023-04-29T18:37:12.929006",
     "exception": false,
     "start_time": "2023-04-29T18:37:12.920526",
     "status": "completed"
    },
    "tags": []
   },
   "source": [
    "The training set has 7,613 tweets, with several different locations and keywords.  If the keywords and locations are put aside, the problem reduces to predicting the presence of a natural disaster purely on NLP analysis of the tweet.\n",
    "\n",
    "They keyword and location columns are dropped to commit to this strategy.  The id column is also dropped as pandas offers its own index.  Then, the first 20 tweets are listed below to gain a sense of the text to process."
   ]
  },
  {
   "cell_type": "code",
   "execution_count": 5,
   "id": "e20b223e",
   "metadata": {
    "execution": {
     "iopub.execute_input": "2023-04-29T18:37:12.947968Z",
     "iopub.status.busy": "2023-04-29T18:37:12.947565Z",
     "iopub.status.idle": "2023-04-29T18:37:12.963347Z",
     "shell.execute_reply": "2023-04-29T18:37:12.962256Z"
    },
    "papermill": {
     "duration": 0.028449,
     "end_time": "2023-04-29T18:37:12.965881",
     "exception": false,
     "start_time": "2023-04-29T18:37:12.937432",
     "status": "completed"
    },
    "tags": []
   },
   "outputs": [
    {
     "data": {
      "text/html": [
       "<div>\n",
       "<style scoped>\n",
       "    .dataframe tbody tr th:only-of-type {\n",
       "        vertical-align: middle;\n",
       "    }\n",
       "\n",
       "    .dataframe tbody tr th {\n",
       "        vertical-align: top;\n",
       "    }\n",
       "\n",
       "    .dataframe thead th {\n",
       "        text-align: right;\n",
       "    }\n",
       "</style>\n",
       "<table border=\"1\" class=\"dataframe\">\n",
       "  <thead>\n",
       "    <tr style=\"text-align: right;\">\n",
       "      <th></th>\n",
       "      <th>text</th>\n",
       "      <th>target</th>\n",
       "    </tr>\n",
       "  </thead>\n",
       "  <tbody>\n",
       "    <tr>\n",
       "      <th>0</th>\n",
       "      <td>Our Deeds are the Reason of this #earthquake M...</td>\n",
       "      <td>1</td>\n",
       "    </tr>\n",
       "    <tr>\n",
       "      <th>1</th>\n",
       "      <td>Forest fire near La Ronge Sask. Canada</td>\n",
       "      <td>1</td>\n",
       "    </tr>\n",
       "    <tr>\n",
       "      <th>2</th>\n",
       "      <td>All residents asked to 'shelter in place' are ...</td>\n",
       "      <td>1</td>\n",
       "    </tr>\n",
       "    <tr>\n",
       "      <th>3</th>\n",
       "      <td>13,000 people receive #wildfires evacuation or...</td>\n",
       "      <td>1</td>\n",
       "    </tr>\n",
       "    <tr>\n",
       "      <th>4</th>\n",
       "      <td>Just got sent this photo from Ruby #Alaska as ...</td>\n",
       "      <td>1</td>\n",
       "    </tr>\n",
       "    <tr>\n",
       "      <th>5</th>\n",
       "      <td>#RockyFire Update =&gt; California Hwy. 20 closed...</td>\n",
       "      <td>1</td>\n",
       "    </tr>\n",
       "    <tr>\n",
       "      <th>6</th>\n",
       "      <td>#flood #disaster Heavy rain causes flash flood...</td>\n",
       "      <td>1</td>\n",
       "    </tr>\n",
       "    <tr>\n",
       "      <th>7</th>\n",
       "      <td>I'm on top of the hill and I can see a fire in...</td>\n",
       "      <td>1</td>\n",
       "    </tr>\n",
       "    <tr>\n",
       "      <th>8</th>\n",
       "      <td>There's an emergency evacuation happening now ...</td>\n",
       "      <td>1</td>\n",
       "    </tr>\n",
       "    <tr>\n",
       "      <th>9</th>\n",
       "      <td>I'm afraid that the tornado is coming to our a...</td>\n",
       "      <td>1</td>\n",
       "    </tr>\n",
       "    <tr>\n",
       "      <th>10</th>\n",
       "      <td>Three people died from the heat wave so far</td>\n",
       "      <td>1</td>\n",
       "    </tr>\n",
       "    <tr>\n",
       "      <th>11</th>\n",
       "      <td>Haha South Tampa is getting flooded hah- WAIT ...</td>\n",
       "      <td>1</td>\n",
       "    </tr>\n",
       "    <tr>\n",
       "      <th>12</th>\n",
       "      <td>#raining #flooding #Florida #TampaBay #Tampa 1...</td>\n",
       "      <td>1</td>\n",
       "    </tr>\n",
       "    <tr>\n",
       "      <th>13</th>\n",
       "      <td>#Flood in Bago Myanmar #We arrived Bago</td>\n",
       "      <td>1</td>\n",
       "    </tr>\n",
       "    <tr>\n",
       "      <th>14</th>\n",
       "      <td>Damage to school bus on 80 in multi car crash ...</td>\n",
       "      <td>1</td>\n",
       "    </tr>\n",
       "    <tr>\n",
       "      <th>15</th>\n",
       "      <td>What's up man?</td>\n",
       "      <td>0</td>\n",
       "    </tr>\n",
       "    <tr>\n",
       "      <th>16</th>\n",
       "      <td>I love fruits</td>\n",
       "      <td>0</td>\n",
       "    </tr>\n",
       "    <tr>\n",
       "      <th>17</th>\n",
       "      <td>Summer is lovely</td>\n",
       "      <td>0</td>\n",
       "    </tr>\n",
       "    <tr>\n",
       "      <th>18</th>\n",
       "      <td>My car is so fast</td>\n",
       "      <td>0</td>\n",
       "    </tr>\n",
       "    <tr>\n",
       "      <th>19</th>\n",
       "      <td>What a goooooooaaaaaal!!!!!!</td>\n",
       "      <td>0</td>\n",
       "    </tr>\n",
       "  </tbody>\n",
       "</table>\n",
       "</div>"
      ],
      "text/plain": [
       "                                                 text  target\n",
       "0   Our Deeds are the Reason of this #earthquake M...       1\n",
       "1              Forest fire near La Ronge Sask. Canada       1\n",
       "2   All residents asked to 'shelter in place' are ...       1\n",
       "3   13,000 people receive #wildfires evacuation or...       1\n",
       "4   Just got sent this photo from Ruby #Alaska as ...       1\n",
       "5   #RockyFire Update => California Hwy. 20 closed...       1\n",
       "6   #flood #disaster Heavy rain causes flash flood...       1\n",
       "7   I'm on top of the hill and I can see a fire in...       1\n",
       "8   There's an emergency evacuation happening now ...       1\n",
       "9   I'm afraid that the tornado is coming to our a...       1\n",
       "10        Three people died from the heat wave so far       1\n",
       "11  Haha South Tampa is getting flooded hah- WAIT ...       1\n",
       "12  #raining #flooding #Florida #TampaBay #Tampa 1...       1\n",
       "13            #Flood in Bago Myanmar #We arrived Bago       1\n",
       "14  Damage to school bus on 80 in multi car crash ...       1\n",
       "15                                     What's up man?       0\n",
       "16                                      I love fruits       0\n",
       "17                                   Summer is lovely       0\n",
       "18                                  My car is so fast       0\n",
       "19                       What a goooooooaaaaaal!!!!!!       0"
      ]
     },
     "execution_count": 5,
     "metadata": {},
     "output_type": "execute_result"
    }
   ],
   "source": [
    "tweets_train.drop('keyword', axis=1, inplace=True, errors='ignore')\n",
    "tweets_train.drop('location', axis=1, inplace=True, errors='ignore')\n",
    "tweets_train.drop('id', axis=1, inplace=True, errors='ignore')\n",
    "tweets_train[:20]"
   ]
  },
  {
   "cell_type": "markdown",
   "id": "dcdd1056",
   "metadata": {
    "papermill": {
     "duration": 0.008179,
     "end_time": "2023-04-29T18:37:12.983656",
     "exception": false,
     "start_time": "2023-04-29T18:37:12.975477",
     "status": "completed"
    },
    "tags": []
   },
   "source": [
    "Now that the data is reduced to only text and target, the analysis continues as predicting the target via an NLP of only the text field."
   ]
  },
  {
   "cell_type": "markdown",
   "id": "8fe5834b",
   "metadata": {
    "papermill": {
     "duration": 0.008144,
     "end_time": "2023-04-29T18:37:13.000129",
     "exception": false,
     "start_time": "2023-04-29T18:37:12.991985",
     "status": "completed"
    },
    "tags": []
   },
   "source": [
    "# Model Architecture\n",
    "The proposed strategy of using NLP to analyse text means the model architecture is to be designed to incorporate NLP patterns.  This includes some preprocessing of the data, tokenization and padding of the text input, and embedding of the words to preserve their sentiment.  \n",
    "\n",
    "The text will then be brought in and will trigger sentiments based on the included words.  This will then proceed to further layers in a Neural Network that can train from these sentiments to classifying the indication of a natural disaster.\n",
    "\n",
    "Once the embedding layer is set up, the model will be fit on the training data guided by a binary_crossentropy loss function as the prediction is for a binary classification which is the domain of problems addressed by this loss function.  Hyperparameter tuning optimization 'adam' strategy has been selected as it is a popular and good choice for tuning those parameters.  \n",
    "\n",
    "Finally, the goal metric is accuracy for our model.\n",
    "\n",
    "## Split to Train and Validation\n",
    "To begin with, the dataset is split into a train and validation set"
   ]
  },
  {
   "cell_type": "code",
   "execution_count": 6,
   "id": "eefd7a10",
   "metadata": {
    "execution": {
     "iopub.execute_input": "2023-04-29T18:37:13.018670Z",
     "iopub.status.busy": "2023-04-29T18:37:13.018259Z",
     "iopub.status.idle": "2023-04-29T18:37:13.029813Z",
     "shell.execute_reply": "2023-04-29T18:37:13.028552Z"
    },
    "papermill": {
     "duration": 0.024008,
     "end_time": "2023-04-29T18:37:13.032604",
     "exception": false,
     "start_time": "2023-04-29T18:37:13.008596",
     "status": "completed"
    },
    "tags": []
   },
   "outputs": [
    {
     "name": "stdout",
     "output_type": "stream",
     "text": [
      "Train with 6090 tweets, validate with 1523 tweets\n"
     ]
    }
   ],
   "source": [
    "# Splitting the data into train and valid\n",
    "X_train, X_valid, y_train, y_valid = train_test_split(tweets_train['text'], tweets_train['target'], test_size=0.2, random_state=RANDOM_STATE)\n",
    "print(f\"Train with {X_train.shape[0]} tweets, validate with {X_valid.shape[0]} tweets\")"
   ]
  },
  {
   "cell_type": "markdown",
   "id": "4401049b",
   "metadata": {
    "papermill": {
     "duration": 0.008867,
     "end_time": "2023-04-29T18:37:13.051063",
     "exception": false,
     "start_time": "2023-04-29T18:37:13.042196",
     "status": "completed"
    },
    "tags": []
   },
   "source": [
    "Then, the text vectorizer is set up to accept training and validation inputs.  Vectorization will take care of tokenizing, padding, and embedding are vectorizedtokenized and padded."
   ]
  },
  {
   "cell_type": "code",
   "execution_count": 7,
   "id": "5b5b29b1",
   "metadata": {
    "execution": {
     "iopub.execute_input": "2023-04-29T18:37:13.070783Z",
     "iopub.status.busy": "2023-04-29T18:37:13.070004Z",
     "iopub.status.idle": "2023-04-29T18:37:14.035626Z",
     "shell.execute_reply": "2023-04-29T18:37:14.034247Z"
    },
    "papermill": {
     "duration": 0.978757,
     "end_time": "2023-04-29T18:37:14.038634",
     "exception": false,
     "start_time": "2023-04-29T18:37:13.059877",
     "status": "completed"
    },
    "tags": []
   },
   "outputs": [],
   "source": [
    "VOCAB_SIZE = 10000\n",
    "MAX_VC_LEN = 250\n",
    "\n",
    "vectorize_layer = TextVectorization(\n",
    "    max_tokens=VOCAB_SIZE,\n",
    "    output_mode='int',\n",
    "    output_sequence_length=MAX_VC_LEN\n",
    ")\n",
    "\n",
    "vectorize_layer.adapt(X_train)"
   ]
  },
  {
   "cell_type": "markdown",
   "id": "067e4e7a",
   "metadata": {
    "papermill": {
     "duration": 0.008897,
     "end_time": "2023-04-29T18:37:14.056371",
     "exception": false,
     "start_time": "2023-04-29T18:37:14.047474",
     "status": "completed"
    },
    "tags": []
   },
   "source": [
    "This vectorize layer can now be added to a model to preprocess the text input.  The model can now be built."
   ]
  },
  {
   "cell_type": "code",
   "execution_count": 8,
   "id": "787dd440",
   "metadata": {
    "execution": {
     "iopub.execute_input": "2023-04-29T18:37:14.077257Z",
     "iopub.status.busy": "2023-04-29T18:37:14.076843Z",
     "iopub.status.idle": "2023-04-29T18:37:14.232165Z",
     "shell.execute_reply": "2023-04-29T18:37:14.230734Z"
    },
    "papermill": {
     "duration": 0.173222,
     "end_time": "2023-04-29T18:37:14.238851",
     "exception": false,
     "start_time": "2023-04-29T18:37:14.065629",
     "status": "completed"
    },
    "tags": []
   },
   "outputs": [
    {
     "name": "stdout",
     "output_type": "stream",
     "text": [
      "Model: \"sequential\"\n",
      "_________________________________________________________________\n",
      " Layer (type)                Output Shape              Param #   \n",
      "=================================================================\n",
      " text_vectorization (TextVec  (None, 250)              0         \n",
      " torization)                                                     \n",
      "                                                                 \n",
      " embedding (Embedding)       (None, 250, 16)           160000    \n",
      "                                                                 \n",
      " flatten (Flatten)           (None, 4000)              0         \n",
      "                                                                 \n",
      " dense (Dense)               (None, 6)                 24006     \n",
      "                                                                 \n",
      " dense_1 (Dense)             (None, 1)                 7         \n",
      "                                                                 \n",
      "=================================================================\n",
      "Total params: 184,013\n",
      "Trainable params: 184,013\n",
      "Non-trainable params: 0\n",
      "_________________________________________________________________\n"
     ]
    }
   ],
   "source": [
    "EMBEDDING_DIMS=16\n",
    "\n",
    "model = Sequential()\n",
    "\n",
    "model.add(Input(shape=(1,), dtype=tf.string)) # Accept the text input as a string\n",
    "model.add(vectorize_layer) # Vectorize the input\n",
    "model.add(Embedding(VOCAB_SIZE, EMBEDDING_DIMS, input_length=MAX_VC_LEN ))\n",
    "model.add(Flatten())\n",
    "model.add(Dense(6, activation='relu'))\n",
    "model.add(Dense(1, activation=\"sigmoid\"))\n",
    "model.compile(loss='binary_crossentropy',optimizer='adam',metrics=['accuracy'])\n",
    "model.summary()"
   ]
  },
  {
   "cell_type": "markdown",
   "id": "a111b33e",
   "metadata": {
    "papermill": {
     "duration": 0.009536,
     "end_time": "2023-04-29T18:37:14.258396",
     "exception": false,
     "start_time": "2023-04-29T18:37:14.248860",
     "status": "completed"
    },
    "tags": []
   },
   "source": [
    "The model is set up, and training can begin\n",
    "\n",
    "# Results and Accuracy\n",
    "The model can be fit on the training data.  Before the fit is begun, a few utility objects are specified to help with early exit of the fit process."
   ]
  },
  {
   "cell_type": "code",
   "execution_count": 9,
   "id": "871a6b7e",
   "metadata": {
    "execution": {
     "iopub.execute_input": "2023-04-29T18:37:14.280264Z",
     "iopub.status.busy": "2023-04-29T18:37:14.279578Z",
     "iopub.status.idle": "2023-04-29T18:37:14.286846Z",
     "shell.execute_reply": "2023-04-29T18:37:14.285886Z"
    },
    "papermill": {
     "duration": 0.02099,
     "end_time": "2023-04-29T18:37:14.289295",
     "exception": false,
     "start_time": "2023-04-29T18:37:14.268305",
     "status": "completed"
    },
    "tags": []
   },
   "outputs": [],
   "source": [
    "earlystopper = EarlyStopping(monitor='val_loss', patience=2, verbose=1, restore_best_weights=True)\n",
    "reducel = ReduceLROnPlateau(monitor='val_loss', patience=1, verbose=1, factor=0.1)"
   ]
  },
  {
   "cell_type": "markdown",
   "id": "19f6700a",
   "metadata": {
    "papermill": {
     "duration": 0.009663,
     "end_time": "2023-04-29T18:37:14.308829",
     "exception": false,
     "start_time": "2023-04-29T18:37:14.299166",
     "status": "completed"
    },
    "tags": []
   },
   "source": [
    "Then, the fit is started."
   ]
  },
  {
   "cell_type": "code",
   "execution_count": 10,
   "id": "8d5aea55",
   "metadata": {
    "execution": {
     "iopub.execute_input": "2023-04-29T18:37:14.330686Z",
     "iopub.status.busy": "2023-04-29T18:37:14.329938Z",
     "iopub.status.idle": "2023-04-29T18:37:21.530053Z",
     "shell.execute_reply": "2023-04-29T18:37:21.529032Z"
    },
    "papermill": {
     "duration": 7.214235,
     "end_time": "2023-04-29T18:37:21.532932",
     "exception": false,
     "start_time": "2023-04-29T18:37:14.318697",
     "status": "completed"
    },
    "tags": []
   },
   "outputs": [
    {
     "name": "stdout",
     "output_type": "stream",
     "text": [
      "Epoch 1/7\n",
      "190/190 [==============================] - 2s 7ms/step - loss: 0.6792 - accuracy: 0.5690 - val_loss: 0.6538 - val_accuracy: 0.5791 - lr: 0.0010\n",
      "Epoch 2/7\n",
      "190/190 [==============================] - 1s 5ms/step - loss: 0.5898 - accuracy: 0.6922 - val_loss: 0.5581 - val_accuracy: 0.7708 - lr: 0.0010\n",
      "Epoch 3/7\n",
      "190/190 [==============================] - 1s 5ms/step - loss: 0.4794 - accuracy: 0.8400 - val_loss: 0.5305 - val_accuracy: 0.7912 - lr: 0.0010\n",
      "Epoch 4/7\n",
      "190/190 [==============================] - 1s 5ms/step - loss: 0.2973 - accuracy: 0.9023 - val_loss: 0.4680 - val_accuracy: 0.8076 - lr: 0.0010\n",
      "Epoch 5/7\n",
      "184/190 [============================>.] - ETA: 0s - loss: 0.1769 - accuracy: 0.9417\n",
      "Epoch 5: ReduceLROnPlateau reducing learning rate to 0.00010000000474974513.\n",
      "190/190 [==============================] - 1s 5ms/step - loss: 0.1752 - accuracy: 0.9426 - val_loss: 0.4977 - val_accuracy: 0.7965 - lr: 0.0010\n",
      "Epoch 6/7\n",
      "184/190 [============================>.] - ETA: 0s - loss: 0.1153 - accuracy: 0.9653\n",
      "Epoch 6: ReduceLROnPlateau reducing learning rate to 1.0000000474974514e-05.\n",
      "Restoring model weights from the end of the best epoch: 4.\n",
      "190/190 [==============================] - 1s 6ms/step - loss: 0.1159 - accuracy: 0.9653 - val_loss: 0.5025 - val_accuracy: 0.8043 - lr: 1.0000e-04\n",
      "Epoch 6: early stopping\n"
     ]
    }
   ],
   "source": [
    "BATCH_SIZE = 32\n",
    "TRAIN_STEPS = X_train.count() // BATCH_SIZE\n",
    "VALID_STEPS = X_valid.count() // BATCH_SIZE\n",
    "EPOCHS = 7\n",
    "\n",
    "fit_result = model.fit(\n",
    "    X_train,\n",
    "    y_train,\n",
    "    steps_per_epoch=TRAIN_STEPS,\n",
    "    epochs=EPOCHS,\n",
    "    validation_data=(X_valid, y_valid),\n",
    "    validation_steps=VALID_STEPS,\n",
    "    callbacks=[reducel, earlystopper],\n",
    "    use_multiprocessing=True\n",
    ")"
   ]
  },
  {
   "cell_type": "markdown",
   "id": "10ab538b",
   "metadata": {
    "papermill": {
     "duration": 0.017205,
     "end_time": "2023-04-29T18:37:21.570336",
     "exception": false,
     "start_time": "2023-04-29T18:37:21.553131",
     "status": "completed"
    },
    "tags": []
   },
   "source": [
    "This works well, but the model might benefit from a few more hidden layers."
   ]
  },
  {
   "cell_type": "code",
   "execution_count": 11,
   "id": "2bd5a372",
   "metadata": {
    "execution": {
     "iopub.execute_input": "2023-04-29T18:37:21.606004Z",
     "iopub.status.busy": "2023-04-29T18:37:21.605583Z",
     "iopub.status.idle": "2023-04-29T18:37:25.683975Z",
     "shell.execute_reply": "2023-04-29T18:37:25.682220Z"
    },
    "papermill": {
     "duration": 4.10686,
     "end_time": "2023-04-29T18:37:25.693907",
     "exception": false,
     "start_time": "2023-04-29T18:37:21.587047",
     "status": "completed"
    },
    "tags": []
   },
   "outputs": [
    {
     "name": "stdout",
     "output_type": "stream",
     "text": [
      "Model: \"sequential_1\"\n",
      "_________________________________________________________________\n",
      " Layer (type)                Output Shape              Param #   \n",
      "=================================================================\n",
      " text_vectorization (TextVec  (None, 250)              0         \n",
      " torization)                                                     \n",
      "                                                                 \n",
      " embedding_1 (Embedding)     (None, 250, 16)           160000    \n",
      "                                                                 \n",
      " flatten_1 (Flatten)         (None, 4000)              0         \n",
      "                                                                 \n",
      " dense_2 (Dense)             (None, 8)                 32008     \n",
      "                                                                 \n",
      " dense_3 (Dense)             (None, 64)                576       \n",
      "                                                                 \n",
      " dense_4 (Dense)             (None, 128)               8320      \n",
      "                                                                 \n",
      " dense_5 (Dense)             (None, 1)                 129       \n",
      "                                                                 \n",
      "=================================================================\n",
      "Total params: 201,033\n",
      "Trainable params: 201,033\n",
      "Non-trainable params: 0\n",
      "_________________________________________________________________\n"
     ]
    }
   ],
   "source": [
    "model = Sequential()\n",
    "\n",
    "model.add(Input(shape=(1,), dtype=tf.string)) # Accept the text input as a string\n",
    "model.add(vectorize_layer) # Vectorize the input\n",
    "model.add(Embedding(VOCAB_SIZE, EMBEDDING_DIMS, input_length=MAX_VC_LEN ))\n",
    "model.add(Flatten())\n",
    "model.add(Dense(8, activation='relu'))\n",
    "model.add(Dense(64, activation='relu'))\n",
    "model.add(Dense(128, activation='relu'))\n",
    "model.add(Dense(1, activation=\"sigmoid\"))\n",
    "model.compile(loss='binary_crossentropy',optimizer='adam',metrics=['accuracy'])\n",
    "model.summary()"
   ]
  },
  {
   "cell_type": "markdown",
   "id": "e1721cee",
   "metadata": {
    "papermill": {
     "duration": 0.017915,
     "end_time": "2023-04-29T18:37:25.730392",
     "exception": false,
     "start_time": "2023-04-29T18:37:25.712477",
     "status": "completed"
    },
    "tags": []
   },
   "source": [
    "This new model is fit to the training data."
   ]
  },
  {
   "cell_type": "code",
   "execution_count": 12,
   "id": "1b773e09",
   "metadata": {
    "execution": {
     "iopub.execute_input": "2023-04-29T18:37:25.768951Z",
     "iopub.status.busy": "2023-04-29T18:37:25.768231Z",
     "iopub.status.idle": "2023-04-29T18:37:31.523291Z",
     "shell.execute_reply": "2023-04-29T18:37:31.521874Z"
    },
    "papermill": {
     "duration": 5.778266,
     "end_time": "2023-04-29T18:37:31.526800",
     "exception": false,
     "start_time": "2023-04-29T18:37:25.748534",
     "status": "completed"
    },
    "tags": []
   },
   "outputs": [
    {
     "name": "stdout",
     "output_type": "stream",
     "text": [
      "Epoch 1/7\n",
      "190/190 [==============================] - 2s 7ms/step - loss: 0.6637 - accuracy: 0.5954 - val_loss: 0.5416 - val_accuracy: 0.7676 - lr: 0.0010\n",
      "Epoch 2/7\n",
      "190/190 [==============================] - 1s 5ms/step - loss: 0.3824 - accuracy: 0.8419 - val_loss: 0.4843 - val_accuracy: 0.7912 - lr: 0.0010\n",
      "Epoch 3/7\n",
      "187/190 [============================>.] - ETA: 0s - loss: 0.1576 - accuracy: 0.9514\n",
      "Epoch 3: ReduceLROnPlateau reducing learning rate to 0.00010000000474974513.\n",
      "190/190 [==============================] - 1s 6ms/step - loss: 0.1584 - accuracy: 0.9514 - val_loss: 0.6182 - val_accuracy: 0.7459 - lr: 0.0010\n",
      "Epoch 4/7\n",
      "190/190 [==============================] - ETA: 0s - loss: 0.0761 - accuracy: 0.9797\n",
      "Epoch 4: ReduceLROnPlateau reducing learning rate to 1.0000000474974514e-05.\n",
      "Restoring model weights from the end of the best epoch: 2.\n",
      "190/190 [==============================] - 1s 6ms/step - loss: 0.0761 - accuracy: 0.9797 - val_loss: 0.6046 - val_accuracy: 0.7754 - lr: 1.0000e-04\n",
      "Epoch 4: early stopping\n"
     ]
    }
   ],
   "source": [
    "fit_result = model.fit(\n",
    "    X_train,\n",
    "    y_train,\n",
    "    steps_per_epoch=TRAIN_STEPS,\n",
    "    epochs=EPOCHS,\n",
    "    validation_data=(X_valid, y_valid),\n",
    "    validation_steps=VALID_STEPS,\n",
    "    callbacks=[reducel, earlystopper],\n",
    "    use_multiprocessing=True\n",
    ")"
   ]
  },
  {
   "cell_type": "markdown",
   "id": "ee47e032",
   "metadata": {
    "papermill": {
     "duration": 0.023328,
     "end_time": "2023-04-29T18:37:31.574187",
     "exception": false,
     "start_time": "2023-04-29T18:37:31.550859",
     "status": "completed"
    },
    "tags": []
   },
   "source": [
    "We do get more accuracy, yet there is a possibility we have overtrained the fit on our data.  \n",
    "\n",
    "## Visualizing the fit\n",
    "The fit result can be plotted to take a look at how well we fit the training data."
   ]
  },
  {
   "cell_type": "code",
   "execution_count": 13,
   "id": "f05a6a9d",
   "metadata": {
    "execution": {
     "iopub.execute_input": "2023-04-29T18:37:31.624419Z",
     "iopub.status.busy": "2023-04-29T18:37:31.622923Z",
     "iopub.status.idle": "2023-04-29T18:37:32.563925Z",
     "shell.execute_reply": "2023-04-29T18:37:32.562562Z"
    },
    "papermill": {
     "duration": 0.968875,
     "end_time": "2023-04-29T18:37:32.566592",
     "exception": false,
     "start_time": "2023-04-29T18:37:31.597717",
     "status": "completed"
    },
    "tags": []
   },
   "outputs": [
    {
     "data": {
      "image/png": "[encoded data removed]",
      "text/plain": [
       "<Figure size 640x480 with 1 Axes>"
      ]
     },
     "metadata": {},
     "output_type": "display_data"
    },
    {
     "data": {
      "image/png": "[encoded data removed]",
      "text/plain": [
       "<Figure size 640x480 with 1 Axes>"
      ]
     },
     "metadata": {},
     "output_type": "display_data"
    }
   ],
   "source": [
    "acc = fit_result.history['accuracy']\n",
    "val_acc = fit_result.history['val_accuracy']\n",
    "loss = fit_result.history['loss']\n",
    "val_loss = fit_result.history['val_loss']\n",
    "\n",
    "epochs = range(len(acc))\n",
    "\n",
    "plt.plot(epochs, acc, 'r', label='Training accuracy')\n",
    "plt.plot(epochs, val_acc, 'b', label='Validation accuracy')\n",
    "plt.title('Training and validation accuracy')\n",
    "plt.legend()\n",
    "plt.figure()\n",
    "\n",
    "plt.plot(epochs, loss, 'r', label='Training loss')\n",
    "plt.plot(epochs, val_loss, 'b', label='Validation loss')\n",
    "plt.title('Training and validation loss')\n",
    "plt.legend()\n",
    "plt.show()"
   ]
  },
  {
   "cell_type": "markdown",
   "id": "61014a2e",
   "metadata": {
    "papermill": {
     "duration": 0.024027,
     "end_time": "2023-04-29T18:37:32.615700",
     "exception": false,
     "start_time": "2023-04-29T18:37:32.591673",
     "status": "completed"
    },
    "tags": []
   },
   "source": [
    "In the model set up above, the fit maintains high accuracy and low loss over the first few epochs."
   ]
  },
  {
   "cell_type": "markdown",
   "id": "1b3ca02f",
   "metadata": {
    "papermill": {
     "duration": 0.024407,
     "end_time": "2023-04-29T18:37:32.664364",
     "exception": false,
     "start_time": "2023-04-29T18:37:32.639957",
     "status": "completed"
    },
    "tags": []
   },
   "source": []
  },
  {
   "cell_type": "code",
   "execution_count": 14,
   "id": "e56beb80",
   "metadata": {
    "execution": {
     "iopub.execute_input": "2023-04-29T18:37:32.715846Z",
     "iopub.status.busy": "2023-04-29T18:37:32.714929Z",
     "iopub.status.idle": "2023-04-29T18:37:33.056628Z",
     "shell.execute_reply": "2023-04-29T18:37:33.055406Z"
    },
    "papermill": {
     "duration": 0.370057,
     "end_time": "2023-04-29T18:37:33.059216",
     "exception": false,
     "start_time": "2023-04-29T18:37:32.689159",
     "status": "completed"
    },
    "tags": []
   },
   "outputs": [
    {
     "name": "stdout",
     "output_type": "stream",
     "text": [
      "48/48 [==============================] - 0s 2ms/step\n"
     ]
    },
    {
     "data": {
      "text/plain": [
       "0.774968957941991"
      ]
     },
     "execution_count": 14,
     "metadata": {},
     "output_type": "execute_result"
    }
   ],
   "source": [
    "y_pred = model.predict(X_valid)\n",
    "y_pred = y_pred.round().squeeze()\n",
    "\n",
    "fpr, tpr, _ = roc_curve(y_valid, y_pred)\n",
    "auc = auc(fpr, tpr)\n",
    "auc"
   ]
  },
  {
   "cell_type": "markdown",
   "id": "8d91fd5b",
   "metadata": {
    "papermill": {
     "duration": 0.024121,
     "end_time": "2023-04-29T18:37:33.108222",
     "exception": false,
     "start_time": "2023-04-29T18:37:33.084101",
     "status": "completed"
    },
    "tags": []
   },
   "source": [
    "## Predicting for Submission\n",
    "In order to predict from the test set of tweets, first the load those tweets."
   ]
  },
  {
   "cell_type": "code",
   "execution_count": 15,
   "id": "8234561a",
   "metadata": {
    "execution": {
     "iopub.execute_input": "2023-04-29T18:37:33.160366Z",
     "iopub.status.busy": "2023-04-29T18:37:33.159183Z",
     "iopub.status.idle": "2023-04-29T18:37:33.195590Z",
     "shell.execute_reply": "2023-04-29T18:37:33.194250Z"
    },
    "papermill": {
     "duration": 0.065218,
     "end_time": "2023-04-29T18:37:33.198220",
     "exception": false,
     "start_time": "2023-04-29T18:37:33.133002",
     "status": "completed"
    },
    "tags": []
   },
   "outputs": [
    {
     "data": {
      "text/html": [
       "<div>\n",
       "<style scoped>\n",
       "    .dataframe tbody tr th:only-of-type {\n",
       "        vertical-align: middle;\n",
       "    }\n",
       "\n",
       "    .dataframe tbody tr th {\n",
       "        vertical-align: top;\n",
       "    }\n",
       "\n",
       "    .dataframe thead th {\n",
       "        text-align: right;\n",
       "    }\n",
       "</style>\n",
       "<table border=\"1\" class=\"dataframe\">\n",
       "  <thead>\n",
       "    <tr style=\"text-align: right;\">\n",
       "      <th></th>\n",
       "      <th>id</th>\n",
       "      <th>text</th>\n",
       "    </tr>\n",
       "  </thead>\n",
       "  <tbody>\n",
       "    <tr>\n",
       "      <th>0</th>\n",
       "      <td>0</td>\n",
       "      <td>Just happened a terrible car crash</td>\n",
       "    </tr>\n",
       "    <tr>\n",
       "      <th>1</th>\n",
       "      <td>2</td>\n",
       "      <td>Heard about #earthquake is different cities, s...</td>\n",
       "    </tr>\n",
       "    <tr>\n",
       "      <th>2</th>\n",
       "      <td>3</td>\n",
       "      <td>there is a forest fire at spot pond, geese are...</td>\n",
       "    </tr>\n",
       "    <tr>\n",
       "      <th>3</th>\n",
       "      <td>9</td>\n",
       "      <td>Apocalypse lighting. #Spokane #wildfires</td>\n",
       "    </tr>\n",
       "    <tr>\n",
       "      <th>4</th>\n",
       "      <td>11</td>\n",
       "      <td>Typhoon Soudelor kills 28 in China and Taiwan</td>\n",
       "    </tr>\n",
       "  </tbody>\n",
       "</table>\n",
       "</div>"
      ],
      "text/plain": [
       "   id                                               text\n",
       "0   0                 Just happened a terrible car crash\n",
       "1   2  Heard about #earthquake is different cities, s...\n",
       "2   3  there is a forest fire at spot pond, geese are...\n",
       "3   9           Apocalypse lighting. #Spokane #wildfires\n",
       "4  11      Typhoon Soudelor kills 28 in China and Taiwan"
      ]
     },
     "execution_count": 15,
     "metadata": {},
     "output_type": "execute_result"
    }
   ],
   "source": [
    "tweets_test = pd.read_csv(f\"{INPUT_DIR}/test.csv\")\n",
    "\n",
    "tweets_test.drop('keyword', axis=1, inplace=True, errors='ignore')\n",
    "tweets_test.drop('location', axis=1, inplace=True, errors='ignore')\n",
    "tweets_test.head()"
   ]
  },
  {
   "cell_type": "markdown",
   "id": "9219846e",
   "metadata": {
    "papermill": {
     "duration": 0.024961,
     "end_time": "2023-04-29T18:37:33.248786",
     "exception": false,
     "start_time": "2023-04-29T18:37:33.223825",
     "status": "completed"
    },
    "tags": []
   },
   "source": [
    "Now predict the presence of a natural disaster as indicated by those tweets."
   ]
  },
  {
   "cell_type": "code",
   "execution_count": 16,
   "id": "2175764f",
   "metadata": {
    "execution": {
     "iopub.execute_input": "2023-04-29T18:37:33.301419Z",
     "iopub.status.busy": "2023-04-29T18:37:33.300283Z",
     "iopub.status.idle": "2023-04-29T18:37:33.614683Z",
     "shell.execute_reply": "2023-04-29T18:37:33.613571Z"
    },
    "papermill": {
     "duration": 0.343842,
     "end_time": "2023-04-29T18:37:33.617582",
     "exception": false,
     "start_time": "2023-04-29T18:37:33.273740",
     "status": "completed"
    },
    "tags": []
   },
   "outputs": [
    {
     "name": "stdout",
     "output_type": "stream",
     "text": [
      "102/102 [==============================] - 0s 2ms/step\n"
     ]
    }
   ],
   "source": [
    "pred = model.predict(tweets_test['text'])\n",
    "pred = pred.round().squeeze()\n"
   ]
  },
  {
   "cell_type": "markdown",
   "id": "99b83fb6",
   "metadata": {
    "papermill": {
     "duration": 0.025018,
     "end_time": "2023-04-29T18:37:33.668913",
     "exception": false,
     "start_time": "2023-04-29T18:37:33.643895",
     "status": "completed"
    },
    "tags": []
   },
   "source": [
    "## Saving the Submission\n",
    "Finally, save the predictions to a dataframe, and ensure the columns offer values in the expected format.\n",
    "\n",
    "First, observe that the submissions are in the following form."
   ]
  },
  {
   "cell_type": "code",
   "execution_count": 17,
   "id": "a6b44e82",
   "metadata": {
    "execution": {
     "iopub.execute_input": "2023-04-29T18:37:33.722162Z",
     "iopub.status.busy": "2023-04-29T18:37:33.721721Z",
     "iopub.status.idle": "2023-04-29T18:37:33.738611Z",
     "shell.execute_reply": "2023-04-29T18:37:33.737239Z"
    },
    "papermill": {
     "duration": 0.046403,
     "end_time": "2023-04-29T18:37:33.741235",
     "exception": false,
     "start_time": "2023-04-29T18:37:33.694832",
     "status": "completed"
    },
    "tags": []
   },
   "outputs": [
    {
     "data": {
      "text/html": [
       "<div>\n",
       "<style scoped>\n",
       "    .dataframe tbody tr th:only-of-type {\n",
       "        vertical-align: middle;\n",
       "    }\n",
       "\n",
       "    .dataframe tbody tr th {\n",
       "        vertical-align: top;\n",
       "    }\n",
       "\n",
       "    .dataframe thead th {\n",
       "        text-align: right;\n",
       "    }\n",
       "</style>\n",
       "<table border=\"1\" class=\"dataframe\">\n",
       "  <thead>\n",
       "    <tr style=\"text-align: right;\">\n",
       "      <th></th>\n",
       "      <th>id</th>\n",
       "      <th>target</th>\n",
       "    </tr>\n",
       "  </thead>\n",
       "  <tbody>\n",
       "    <tr>\n",
       "      <th>0</th>\n",
       "      <td>0</td>\n",
       "      <td>0</td>\n",
       "    </tr>\n",
       "    <tr>\n",
       "      <th>1</th>\n",
       "      <td>2</td>\n",
       "      <td>0</td>\n",
       "    </tr>\n",
       "    <tr>\n",
       "      <th>2</th>\n",
       "      <td>3</td>\n",
       "      <td>0</td>\n",
       "    </tr>\n",
       "    <tr>\n",
       "      <th>3</th>\n",
       "      <td>9</td>\n",
       "      <td>0</td>\n",
       "    </tr>\n",
       "    <tr>\n",
       "      <th>4</th>\n",
       "      <td>11</td>\n",
       "      <td>0</td>\n",
       "    </tr>\n",
       "  </tbody>\n",
       "</table>\n",
       "</div>"
      ],
      "text/plain": [
       "   id  target\n",
       "0   0       0\n",
       "1   2       0\n",
       "2   3       0\n",
       "3   9       0\n",
       "4  11       0"
      ]
     },
     "execution_count": 17,
     "metadata": {},
     "output_type": "execute_result"
    }
   ],
   "source": [
    "sample_submission = pd.read_csv(f\"{INPUT_DIR}/sample_submission.csv\")\n",
    "sample_submission.head()"
   ]
  },
  {
   "cell_type": "code",
   "execution_count": 18,
   "id": "1afc158c",
   "metadata": {
    "execution": {
     "iopub.execute_input": "2023-04-29T18:37:33.796180Z",
     "iopub.status.busy": "2023-04-29T18:37:33.795120Z",
     "iopub.status.idle": "2023-04-29T18:37:33.807447Z",
     "shell.execute_reply": "2023-04-29T18:37:33.806229Z"
    },
    "papermill": {
     "duration": 0.042092,
     "end_time": "2023-04-29T18:37:33.810162",
     "exception": false,
     "start_time": "2023-04-29T18:37:33.768070",
     "status": "completed"
    },
    "tags": []
   },
   "outputs": [
    {
     "data": {
      "text/html": [
       "<div>\n",
       "<style scoped>\n",
       "    .dataframe tbody tr th:only-of-type {\n",
       "        vertical-align: middle;\n",
       "    }\n",
       "\n",
       "    .dataframe tbody tr th {\n",
       "        vertical-align: top;\n",
       "    }\n",
       "\n",
       "    .dataframe thead th {\n",
       "        text-align: right;\n",
       "    }\n",
       "</style>\n",
       "<table border=\"1\" class=\"dataframe\">\n",
       "  <thead>\n",
       "    <tr style=\"text-align: right;\">\n",
       "      <th></th>\n",
       "      <th>id</th>\n",
       "      <th>target</th>\n",
       "    </tr>\n",
       "  </thead>\n",
       "  <tbody>\n",
       "    <tr>\n",
       "      <th>0</th>\n",
       "      <td>0</td>\n",
       "      <td>1</td>\n",
       "    </tr>\n",
       "    <tr>\n",
       "      <th>1</th>\n",
       "      <td>2</td>\n",
       "      <td>1</td>\n",
       "    </tr>\n",
       "    <tr>\n",
       "      <th>2</th>\n",
       "      <td>3</td>\n",
       "      <td>1</td>\n",
       "    </tr>\n",
       "    <tr>\n",
       "      <th>3</th>\n",
       "      <td>9</td>\n",
       "      <td>1</td>\n",
       "    </tr>\n",
       "    <tr>\n",
       "      <th>4</th>\n",
       "      <td>11</td>\n",
       "      <td>1</td>\n",
       "    </tr>\n",
       "  </tbody>\n",
       "</table>\n",
       "</div>"
      ],
      "text/plain": [
       "   id  target\n",
       "0   0       1\n",
       "1   2       1\n",
       "2   3       1\n",
       "3   9       1\n",
       "4  11       1"
      ]
     },
     "execution_count": 18,
     "metadata": {},
     "output_type": "execute_result"
    }
   ],
   "source": [
    "submissions_df = pd.DataFrame({'id': tweets_test['id'],\n",
    "                            'target':pred})\n",
    "\n",
    "# Convert the submissions dataframe columns to what we expect\n",
    "submissions_df['id'] = submissions_df['id']\n",
    "submissions_df['target'] = submissions_df['target'].astype('int8')\n",
    "submissions_df.head()"
   ]
  },
  {
   "cell_type": "markdown",
   "id": "5fcb9c76",
   "metadata": {
    "papermill": {
     "duration": 0.025785,
     "end_time": "2023-04-29T18:37:33.861953",
     "exception": false,
     "start_time": "2023-04-29T18:37:33.836168",
     "status": "completed"
    },
    "tags": []
   },
   "source": [
    "Save those submissions to a csv"
   ]
  },
  {
   "cell_type": "code",
   "execution_count": 19,
   "id": "1b4a16e0",
   "metadata": {
    "execution": {
     "iopub.execute_input": "2023-04-29T18:37:33.916861Z",
     "iopub.status.busy": "2023-04-29T18:37:33.915880Z",
     "iopub.status.idle": "2023-04-29T18:37:33.932602Z",
     "shell.execute_reply": "2023-04-29T18:37:33.931549Z"
    },
    "papermill": {
     "duration": 0.047081,
     "end_time": "2023-04-29T18:37:33.935219",
     "exception": false,
     "start_time": "2023-04-29T18:37:33.888138",
     "status": "completed"
    },
    "tags": []
   },
   "outputs": [
    {
     "name": "stdout",
     "output_type": "stream",
     "text": [
      "Exported to CSV\n"
     ]
    }
   ],
   "source": [
    "submissions_df.to_csv(\"/kaggle/working/submission.csv\", index=False, header=True)\n",
    "print(\"Exported to CSV\")"
   ]
  },
  {
   "cell_type": "markdown",
   "id": "d08b49c1",
   "metadata": {
    "papermill": {
     "duration": 0.026687,
     "end_time": "2023-04-29T18:37:33.988815",
     "exception": false,
     "start_time": "2023-04-29T18:37:33.962128",
     "status": "completed"
    },
    "tags": []
   },
   "source": [
    "# Conclusion\n",
    "In this study, we explored the use of natural language processing (NLP) to identify disaster tweets on Twitter. We found that NLP can be a powerful tool for this task, but it is important to consider the nuances of human language. For example, the word \"ABLAZE\" can be used literally or metaphorically, and it is important for a machine learning model to be able to distinguish between these two uses.\n",
    "\n",
    "We built a model using NLP where the model architecture included vectorizing the input text, and then a few further hidden layers that improved accuracy and possibly overfit the model. We used a technique called regularization to help prevent overfitting, but it is possible that the model still overfit to the training data.\n",
    "\n",
    "Overall, our findings suggest that NLP is a promising tool for identifying disaster tweets on Twitter. However, further research is needed to improve the accuracy of NLP models for this task."
   ]
  }
 ],
 "metadata": {
  "kernelspec": {
   "display_name": "Python 3",
   "language": "python",
   "name": "python3"
  },
  "language_info": {
   "codemirror_mode": {
    "name": "ipython",
    "version": 3
   },
   "file_extension": ".py",
   "mimetype": "text/x-python",
   "name": "python",
   "nbconvert_exporter": "python",
   "pygments_lexer": "ipython3",
   "version": "3.7.12"
  },
  "papermill": {
   "default_parameters": {},
   "duration": 44.716059,
   "end_time": "2023-04-29T18:37:37.257265",
   "environment_variables": {},
   "exception": null,
   "input_path": "__notebook__.ipynb",
   "output_path": "__notebook__.ipynb",
   "parameters": {},
   "start_time": "2023-04-29T18:36:52.541206",
   "version": "2.4.0"
  }
 },
 "nbformat": 4,
 "nbformat_minor": 5
}
